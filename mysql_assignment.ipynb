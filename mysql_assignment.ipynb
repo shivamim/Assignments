{
 "cells": [
  {
   "cell_type": "code",
   "execution_count": 1,
   "id": "fa7b5f39-e695-423e-8a2f-a28f27b362aa",
   "metadata": {},
   "outputs": [
    {
     "data": {
      "text/plain": [
       "'A database is a collection of data that is organized, which is also called structured data.\\nIt can be accessed or stored in a computer system.\\n\\nSQL- These databases have fixed or static or predefined schema\\n     These databases are not suited for hierarchical data storage.\\n     These databases are best suited for complex queries and are vertically scalable\\n     \\nNoSQL- They have a dynamic schema\\n       These databases are best suited for hierarchical data storage.\\n       These databases are not so good for complex queries and are horizontally scalable.'"
      ]
     },
     "execution_count": 1,
     "metadata": {},
     "output_type": "execute_result"
    }
   ],
   "source": [
    "#Q1\n",
    "'''A database is a collection of data that is organized, which is also called structured data.\n",
    "It can be accessed or stored in a computer system.\n",
    "\n",
    "SQL- These databases have fixed or static or predefined schema\n",
    "     These databases are not suited for hierarchical data storage.\n",
    "     These databases are best suited for complex queries and are vertically scalable\n",
    "     \n",
    "NoSQL- They have a dynamic schema\n",
    "       These databases are best suited for hierarchical data storage.\n",
    "       These databases are not so good for complex queries and are horizontally scalable.'''"
   ]
  },
  {
   "cell_type": "code",
   "execution_count": null,
   "id": "a3f47d52-9672-4748-b195-e79150ce278c",
   "metadata": {},
   "outputs": [],
   "source": [
    "#Q2\n",
    "The DDL Commands in Structured Query Language are used to create and modify the schema of the database and its objects. \n",
    "The syntax of DDL commands is predefined for describing the data. \n",
    "\n",
    "CREATE Command: CREATE is a DDL command used to create databases, tables, triggers and other database objects.\n",
    "EX- CREATE TABLE Student   \n",
    "(  \n",
    "Roll_No. Int ,    \n",
    "First_Name Varchar (20) ,    \n",
    "Last_Name Varchar (20) ,    \n",
    "Age Int ,  \n",
    "Marks Int ,   \n",
    ") ;    \n",
    "\n",
    "\n",
    "DROP Command:DROP is a DDL command used to delete/remove the database objects from the SQL database.\n",
    "We can easily remove the entire table, view, or index from the database using this DDL command\n",
    "EX- DROP TABLE Student;\n",
    "\n",
    "ALTER Command:ALTER is a DDL command which changes or modifies the existing structure of the database, and it also changes the schema of database objects.\n",
    "EX- ALTER TABLE Student ADD Father's_Name Varchar(60); \n",
    "\n",
    "TRUNCATE Command:TRUNCATE is another DDL command which deletes or removes all the records from the table.\n",
    "EX-TRUNCATE TABLE Student\n"
   ]
  },
  {
   "cell_type": "code",
   "execution_count": null,
   "id": "a4d7145e-6f70-40d2-9ef6-46b1958a5d98",
   "metadata": {},
   "outputs": [],
   "source": [
    "#Q3\n",
    "DML: The DML commands in Structured Query Language change the data present in the SQL database.\n",
    "INSERT Command –This command is used to enter the information or values into a row\n",
    "EX- INSERT INTO students ('stu_id' int, 'stu_name' varchar(20), 'city' varchar(20))\n",
    "\n",
    "VALUES ('1', 'Nirmit', 'Gorakhpur'); \n",
    "\n",
    "UPDATE Command –This command is used to alter existing table records.\n",
    "\n",
    "UPDATE students\n",
    "\n",
    "SET due_fees = 20000\n",
    "\n",
    "WHERE stu_name = 'Mini'; \n",
    "\n",
    "DELETE Command –It deletes all archives from a table.\n",
    "\n",
    "DELETE FROM students\n",
    "\n",
    "WHERE stu_id = '001'; "
   ]
  },
  {
   "cell_type": "code",
   "execution_count": null,
   "id": "7c0fc93a-b375-4843-a878-720b103666bc",
   "metadata": {},
   "outputs": [],
   "source": [
    "#Q4\n",
    "DQL statements are employed to conduct inquiries on the information contained in schema objects. \n",
    "The main purpose of the DQL command is to provide a schema according to the query written.\n",
    "SELECT Command:The most utilized SQL statement is select. Data from a database can be retrieved or fetched using the SELECT Statement in SQL. Either the entire table or a subset of it can be retrieved. A result table contains the data that was returned. The result set also refers to this result table.\n",
    "EX- CREATE TABLE dost  \n",
    "(  \n",
    "FirstName varchar(30),  \n",
    "LastName  varchar(30),  \n",
    "Sub_ID INT,   \n",
    "Sub_Name varchar(20),  \n",
    "City varchar(50),  \n",
    "College varchar(100)  \n",
    ");  \n",
    "  \n",
    "Insert into dost  \n",
    "Values ('Ayush','Gupta',32,'ECE','Jaipur','IIIT KOTA');  \n",
    "Insert into dost  \n",
    "Values ('Mansi','Meena',33,'SSC','Jaipur','Subodh College');  \n",
    "Insert into dost  \n",
    "Values ('Anjali','Kumawat',34,'CS','Kota','RTU KOTA');  \n",
    "Insert into dost  \n",
    "Values ('Shivani','Yadav',56,'Nursing','Delhi','AIIMS Delhi');  \n",
    "Insert into dost  \n",
    "Values ('Gopal','Tripathi',89,'Mech','Kurukshetra','NIT Kurukshetra');  \n",
    "Insert into dost  \n",
    "Values ('Ankit','Soni',96,'Electrical','Jaipur','Arya College Jaipur');  \n",
    "Insert into dost  \n",
    "Values ('Ankit','Narolia',12,'BSC','Jaipur','Parishkar College Jaipur');  \n",
    "  \n",
    "Select * FROM dost;  "
   ]
  },
  {
   "cell_type": "code",
   "execution_count": null,
   "id": "a509d452-47d9-4532-920a-4e3f31a522b9",
   "metadata": {},
   "outputs": [],
   "source": [
    "#Q5\n",
    "A primary key is used to ensure data in the specific column is unique.\n",
    "A foreign key is a column or group of columns in a relational database table that provides a link between data in two tables"
   ]
  },
  {
   "cell_type": "code",
   "execution_count": null,
   "id": "d7343e88-bebd-4ce4-bc07-d9ab97ae1401",
   "metadata": {},
   "outputs": [],
   "source": [
    "#Q6\n",
    "The MySQLCursor of mysql-connector-python (and similar libraries) is used to execute statements to communicate with the MySQL database.\n",
    "\n",
    "import mysql.connector\n",
    "\n",
    "#establishing the connection\n",
    "conn = mysql.connector.connect(\n",
    "   user='root', password='password', host='127.0.0.1', database='mydb'\n",
    ")\n",
    "#Creating a cursor object using the cursor() method\n",
    "cursor = conn.cursor()\n",
    "\n",
    "execute():This method accepts a MySQL query as a parameter and executes the given query.\n",
    "cursor(): It is an object that is used to make the connection for executing SQL queries. It acts as middleware\n"
   ]
  },
  {
   "cell_type": "code",
   "execution_count": null,
   "id": "26cfc038-bd99-490a-ab54-4b299913989e",
   "metadata": {},
   "outputs": [],
   "source": [
    "#Q7\n",
    "7 STAGES OF SQL ORDER OF EXECUTION \n",
    "FROM/JOIN\n",
    "WHERE\n",
    "GROUP BY\n",
    "HAVING\n",
    "SELECT\n",
    "ORDER BY\n",
    "LIMIT/OFFSET"
   ]
  }
 ],
 "metadata": {
  "kernelspec": {
   "display_name": "Python 3 (ipykernel)",
   "language": "python",
   "name": "python3"
  },
  "language_info": {
   "codemirror_mode": {
    "name": "ipython",
    "version": 3
   },
   "file_extension": ".py",
   "mimetype": "text/x-python",
   "name": "python",
   "nbconvert_exporter": "python",
   "pygments_lexer": "ipython3",
   "version": "3.10.8"
  }
 },
 "nbformat": 4,
 "nbformat_minor": 5
}
