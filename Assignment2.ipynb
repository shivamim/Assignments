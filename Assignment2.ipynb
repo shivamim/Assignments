{
 "cells": [
  {
   "cell_type": "code",
   "execution_count": null,
   "id": "be674b33-722d-4d26-8a30-8a185a8e7420",
   "metadata": {},
   "outputs": [],
   "source": [
    "Q1))\n",
    "We comment code in python using # symbol.\n",
    "Comments in python are of two types....\n",
    "1- Single line comment -- It starts with # .. Example-- #This is single line comment\n",
    "2- Multiple line comment-- It starts and end with \"\"\" .. Example -- \"\"\"This is multi line comment\"\"\"\n"
   ]
  },
  {
   "cell_type": "code",
   "execution_count": null,
   "id": "a40afd2d-9fad-491a-b277-a89bef317e74",
   "metadata": {},
   "outputs": [],
   "source": [
    "Q2))\n",
    "A variable is a string of characters and numbers associated with a piece of information.\n",
    "To declare the variable just name the variable and asssign value to it.\n",
    "Example:- a=25\n",
    "          b= 77\n"
   ]
  },
  {
   "cell_type": "code",
   "execution_count": null,
   "id": "86e90dc8-649e-46c8-bb76-801bf6e1f157",
   "metadata": {},
   "outputs": [],
   "source": [
    "Q3))\n",
    "Python defines type function to directly convert one data type into another data type.\n",
    "There are two types of Type Conversion in Python:\n",
    "#Implicit Type Conversion\n",
    "#Explicit Type Conversion\n"
   ]
  },
  {
   "cell_type": "code",
   "execution_count": null,
   "id": "dd733a19-4164-4c66-9f0c-c4eeeec8246b",
   "metadata": {},
   "outputs": [],
   "source": [
    "Q4))\n",
    "To create your first Python file, navigate to the folder that you would like to create your file in and create a file called test.py.\n",
    "Next, open this file up in a text editor and type in the following code: print(\"This is script!\") Save your file.\n",
    "The most basic and easy way to run a Python script is by using the python command. \n",
    "You need to open a command line and type the word python followed by the path to your script file like this: python first_script.py\n",
    "Hello World!"
   ]
  },
  {
   "cell_type": "code",
   "execution_count": 2,
   "id": "311e513f-d30f-4000-9978-a8c6caf7aef8",
   "metadata": {},
   "outputs": [],
   "source": [
    "#Q5))\n",
    "my_list = [1, 2, 3, 4, 5]\n"
   ]
  },
  {
   "cell_type": "code",
   "execution_count": 4,
   "id": "f901a5c8-1254-4d67-9e9f-73a4a14ba7e1",
   "metadata": {},
   "outputs": [
    {
     "name": "stdout",
     "output_type": "stream",
     "text": [
      "[2, 3]\n"
     ]
    }
   ],
   "source": [
    "print(my_list[1:3])"
   ]
  },
  {
   "cell_type": "code",
   "execution_count": null,
   "id": "36678a20-f8e1-405b-8eec-fe5899dfe972",
   "metadata": {},
   "outputs": [],
   "source": []
  },
  {
   "cell_type": "code",
   "execution_count": null,
   "id": "f7944c77-41c2-4a85-a473-f232ade0ee36",
   "metadata": {},
   "outputs": [],
   "source": [
    "Q6))\n",
    "Commplex Numbers: Complex numbers are numbers which consist of real part and imaginary part.\n",
    "In python Complex numbers are represented by: a+bj   \n",
    "where a is real part, amd b is imaginary part.\n",
    "FOR EXAMPLE: 2+9j "
   ]
  },
  {
   "cell_type": "code",
   "execution_count": null,
   "id": "8c6f688f-ae53-40ef-8308-6f7c9df4b065",
   "metadata": {},
   "outputs": [],
   "source": [
    "Q7))\n",
    "#To declare a variable named age and assigning values to it\n",
    "Age= 25"
   ]
  },
  {
   "cell_type": "code",
   "execution_count": 10,
   "id": "b5091770-650a-4f2d-9496-604fbe08675c",
   "metadata": {},
   "outputs": [],
   "source": [
    "#Q8))\n",
    "#To declare a variable named price and assigning value 9.99 to it\n",
    "price=9.99"
   ]
  },
  {
   "cell_type": "code",
   "execution_count": 12,
   "id": "e89008e5-c5bd-426d-b8fa-bf2c869b4206",
   "metadata": {},
   "outputs": [
    {
     "data": {
      "text/plain": [
       "float"
      ]
     },
     "execution_count": 12,
     "metadata": {},
     "output_type": "execute_result"
    }
   ],
   "source": [
    "type(price)\n",
    "#thus it is of type float"
   ]
  },
  {
   "cell_type": "code",
   "execution_count": 13,
   "id": "d5d0422c-ecb3-441f-badb-208a1e829005",
   "metadata": {},
   "outputs": [],
   "source": [
    "#Q9))\n",
    "name='shivam shukla'"
   ]
  },
  {
   "cell_type": "code",
   "execution_count": 15,
   "id": "99fd6521-afc0-4bdb-9082-4d878f131b50",
   "metadata": {},
   "outputs": [
    {
     "name": "stdout",
     "output_type": "stream",
     "text": [
      "shivam shukla\n"
     ]
    }
   ],
   "source": [
    "print(name)"
   ]
  },
  {
   "cell_type": "code",
   "execution_count": 17,
   "id": "9dfc191d-08b1-4bdc-a589-223d20b15bba",
   "metadata": {},
   "outputs": [],
   "source": [
    "#Q10\n",
    "\n",
    "s=\"Hello,World!\""
   ]
  },
  {
   "cell_type": "code",
   "execution_count": 18,
   "id": "14feaa25-e6c7-473b-8995-e30453d91545",
   "metadata": {},
   "outputs": [
    {
     "name": "stdout",
     "output_type": "stream",
     "text": [
      "World!\n"
     ]
    }
   ],
   "source": [
    "print(s[7:])"
   ]
  },
  {
   "cell_type": "code",
   "execution_count": null,
   "id": "456d7f7a-ec54-4e51-b550-59b842d75537",
   "metadata": {},
   "outputs": [],
   "source": [
    "#Q11\n"
   ]
  }
 ],
 "metadata": {
  "kernelspec": {
   "display_name": "Python 3 (ipykernel)",
   "language": "python",
   "name": "python3"
  },
  "language_info": {
   "codemirror_mode": {
    "name": "ipython",
    "version": 3
   },
   "file_extension": ".py",
   "mimetype": "text/x-python",
   "name": "python",
   "nbconvert_exporter": "python",
   "pygments_lexer": "ipython3",
   "version": "3.10.8"
  }
 },
 "nbformat": 4,
 "nbformat_minor": 5
}
