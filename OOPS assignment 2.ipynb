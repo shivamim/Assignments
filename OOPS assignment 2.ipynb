{
 "cells": [
  {
   "cell_type": "code",
   "execution_count": null,
   "id": "4e400dc3-8d91-4ca6-8f4b-706cefa64735",
   "metadata": {},
   "outputs": [],
   "source": [
    "#1\n",
    "'''Abstraction in Python:Abstraction is used to hide the internal functionality of the function from the users.\n",
    "The users only interact with the basic implementation of the function, but inner working is hidden. User is familiar with that \"what function does\" but they don't know \"how it does.\"'''\n",
    "\n",
    "class Person:\n",
    "    def __init__(self):\n",
    "        self.name = \"Shiv\"\n",
    "\n",
    "    def bio(self):\n",
    "        self.addr = \"Lucknow, India\"\n",
    "        self.taxInfo = \"HUAPK29971\"\n",
    "        self.contact = \"01-777-523-342\"\n",
    "        print(self.addr, self.taxInfo, self.contact)\n",
    "\n",
    "    def interest(self):\n",
    "        self.favFood = \"South_indian\"\n",
    "        self.hobbies = \"Python Programming\"\n",
    "        self.bloodGroup = \"A-\"\n",
    "        print(self.favFood, self.hobbies, self.bloodGroup)\n",
    "\n",
    "obj = Person()\n",
    "print(obj.name)\n",
    "obj.bio()\n",
    "obj.interest()"
   ]
  },
  {
   "cell_type": "code",
   "execution_count": 7,
   "id": "d121eb19-89ab-44e8-bb8a-2529d95b7518",
   "metadata": {},
   "outputs": [
    {
     "name": "stdout",
     "output_type": "stream",
     "text": [
      "Area of a Square: 25\n",
      "Area of a circle: 50.24\n"
     ]
    }
   ],
   "source": [
    "#2\n",
    "'''Abstraction is a process of hiding the implementation details of a system from the user, and only the functional details will be available to the user end. On the other hand,\n",
    "Encapsulation is a method of wrapping up the data and code acting on the data into a single unit.'''\n",
    "\n",
    "#example of abstraction\n",
    "\n",
    "from abc import ABC\n",
    "\n",
    "class llgm(ABC): \n",
    "\n",
    "    pass\n",
    "\n",
    "class Square(llgm):\n",
    "\n",
    "\n",
    "  length = 5\n",
    "\n",
    "  def Area(self):\n",
    "\n",
    "    return self.length * self.length \n",
    "\n",
    "\n",
    "class Circle(llgm):\n",
    "\n",
    "  radius =4 \n",
    "\n",
    "  def Area(self):\n",
    "\n",
    "    return 3.14 * self.radius * self.radius\n",
    "\n",
    "\n",
    "sq = Square() #object created for the class ‘Square’\n",
    "\n",
    "cir = Circle() #object created for the class ‘Circle’\n",
    "\n",
    "print(\"Area of a Square:\", sq.Area()) #call to ‘calculate_area’ method defined inside the class ‘Square’\n",
    "\n",
    "print(\"Area of a circle:\", cir.Area()) #call to ‘calculate_area’ method defined inside the class ‘Circle’."
   ]
  },
  {
   "cell_type": "code",
   "execution_count": 8,
   "id": "4b3622fd-a209-4eed-97c6-d115a3aae561",
   "metadata": {},
   "outputs": [
    {
     "name": "stdout",
     "output_type": "stream",
     "text": [
      "Calling protected member of base class:  2\n",
      "Calling modified protected member outside class:  3\n",
      "Accessing protected member of obj1:  3\n",
      "Accessing protected member of obj2:  2\n"
     ]
    }
   ],
   "source": [
    "#Example of encapsulation\n",
    "class Base:\n",
    "    def __init__(self):\n",
    "  \n",
    "        self._a = 2\n",
    "  \n",
    "class Derived(Base):\n",
    "    def __init__(self):\n",
    "  \n",
    "        # Calling constructor of\n",
    "        # Base class\n",
    "        Base.__init__(self)\n",
    "        print(\"Calling protected member of base class: \", \n",
    "              self._a)\n",
    "  \n",
    "        # Modify the protected variable:\n",
    "        self._a = 3\n",
    "        print(\"Calling modified protected member outside class: \",\n",
    "              self._a)\n",
    "  \n",
    "  \n",
    "obj1 = Derived()\n",
    "  \n",
    "obj2 = Base()\n",
    "  \n",
    "# Calling protected member\n",
    "# Can be accessed but should not be done due to convention\n",
    "print(\"Accessing protected member of obj1: \", obj1._a)\n",
    "  \n",
    "# Accessing the protected variable outside\n",
    "print(\"Accessing protected member of obj2: \", obj2._a)"
   ]
  },
  {
   "cell_type": "code",
   "execution_count": 9,
   "id": "90549405-1c1b-45a3-85b0-649ac9533dd9",
   "metadata": {},
   "outputs": [
    {
     "data": {
      "text/plain": [
       "\"The 'abc' module in Python library provides the infrastructure for defining custom abstract base classes.\\n'abc' works by marking methods of the base class as abstract. This is done by @absttractmethod decorator.\""
      ]
     },
     "execution_count": 9,
     "metadata": {},
     "output_type": "execute_result"
    }
   ],
   "source": [
    "#3\n",
    "'''The 'abc' module in Python library provides the infrastructure for defining custom abstract base classes.\n",
    "'abc' works by marking methods of the base class as abstract. This is done by @absttractmethod decorator.'''\n"
   ]
  },
  {
   "cell_type": "code",
   "execution_count": 10,
   "id": "8381b576-47e1-43a4-a31c-fceb0b9b148d",
   "metadata": {},
   "outputs": [
    {
     "data": {
      "text/plain": [
       "'Data Abstraction in Python can be achieved through creating abstract classes and inheriting them later.'"
      ]
     },
     "execution_count": 10,
     "metadata": {},
     "output_type": "execute_result"
    }
   ],
   "source": [
    "#4\n",
    "'''Data Abstraction in Python can be achieved through creating abstract classes and inheriting them later.'''"
   ]
  },
  {
   "cell_type": "code",
   "execution_count": null,
   "id": "2a2a8e0c-46d2-4b08-801b-411bedf6b1e0",
   "metadata": {},
   "outputs": [],
   "source": [
    "#5\n"
   ]
  }
 ],
 "metadata": {
  "kernelspec": {
   "display_name": "Python 3 (ipykernel)",
   "language": "python",
   "name": "python3"
  },
  "language_info": {
   "codemirror_mode": {
    "name": "ipython",
    "version": 3
   },
   "file_extension": ".py",
   "mimetype": "text/x-python",
   "name": "python",
   "nbconvert_exporter": "python",
   "pygments_lexer": "ipython3",
   "version": "3.10.8"
  }
 },
 "nbformat": 4,
 "nbformat_minor": 5
}
