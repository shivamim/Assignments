{
 "cells": [
  {
   "cell_type": "code",
   "execution_count": 85,
   "id": "0b4e64b3-ef62-4bdd-a8d2-5dd416f7f430",
   "metadata": {},
   "outputs": [],
   "source": [
    "#1\n",
    "a='shiv'\n",
    "b=[1,'ram',66.5,]\n",
    "c= 9.6\n",
    "d=('apple','banana','grapes')\n"
   ]
  },
  {
   "cell_type": "code",
   "execution_count": 86,
   "id": "9d8e6f81-bc03-47fc-a987-282b58f94733",
   "metadata": {},
   "outputs": [
    {
     "data": {
      "text/plain": [
       "str"
      ]
     },
     "execution_count": 86,
     "metadata": {},
     "output_type": "execute_result"
    }
   ],
   "source": [
    "type(a)"
   ]
  },
  {
   "cell_type": "code",
   "execution_count": 87,
   "id": "7bd4e647-1fc3-42e9-ae94-2290c0cf5107",
   "metadata": {},
   "outputs": [
    {
     "data": {
      "text/plain": [
       "list"
      ]
     },
     "execution_count": 87,
     "metadata": {},
     "output_type": "execute_result"
    }
   ],
   "source": [
    "type(b)"
   ]
  },
  {
   "cell_type": "code",
   "execution_count": 88,
   "id": "c4898748-5172-4a46-8085-15de282a29e1",
   "metadata": {},
   "outputs": [
    {
     "data": {
      "text/plain": [
       "float"
      ]
     },
     "execution_count": 88,
     "metadata": {},
     "output_type": "execute_result"
    }
   ],
   "source": [
    "type(c)"
   ]
  },
  {
   "cell_type": "code",
   "execution_count": 89,
   "id": "8c90e692-c758-4942-b558-7742684910b4",
   "metadata": {},
   "outputs": [
    {
     "data": {
      "text/plain": [
       "tuple"
      ]
     },
     "execution_count": 89,
     "metadata": {},
     "output_type": "execute_result"
    }
   ],
   "source": [
    "type(d)"
   ]
  },
  {
   "cell_type": "code",
   "execution_count": 90,
   "id": "6d4bc78f-2933-4e5e-8df8-431468844256",
   "metadata": {},
   "outputs": [],
   "source": [
    "#2\n",
    "var1 = ' '  #this is string\n",
    "var2 = '[ DS , ML , Python]'  #this is string\n",
    "var3 = [ 'DS' , 'ML' , 'Python' ] #this is list\n",
    "var4 = 1. #this is float"
   ]
  },
  {
   "cell_type": "code",
   "execution_count": 91,
   "id": "14a0053e-9318-45c1-8657-74e719f3f6cd",
   "metadata": {},
   "outputs": [
    {
     "data": {
      "text/plain": [
       "str"
      ]
     },
     "execution_count": 91,
     "metadata": {},
     "output_type": "execute_result"
    }
   ],
   "source": [
    "type(var1)"
   ]
  },
  {
   "cell_type": "code",
   "execution_count": 92,
   "id": "81a35d65-84a9-43df-b3a8-dce479236c5b",
   "metadata": {},
   "outputs": [
    {
     "data": {
      "text/plain": [
       "str"
      ]
     },
     "execution_count": 92,
     "metadata": {},
     "output_type": "execute_result"
    }
   ],
   "source": [
    "type(var2)"
   ]
  },
  {
   "cell_type": "code",
   "execution_count": 93,
   "id": "49a01288-0645-40ae-b239-814f935e1e0b",
   "metadata": {},
   "outputs": [
    {
     "data": {
      "text/plain": [
       "list"
      ]
     },
     "execution_count": 93,
     "metadata": {},
     "output_type": "execute_result"
    }
   ],
   "source": [
    "type(var3)"
   ]
  },
  {
   "cell_type": "code",
   "execution_count": 94,
   "id": "64617c22-c6df-464b-a43e-2d66ff8c6b44",
   "metadata": {},
   "outputs": [
    {
     "data": {
      "text/plain": [
       "float"
      ]
     },
     "execution_count": 94,
     "metadata": {},
     "output_type": "execute_result"
    }
   ],
   "source": [
    "type(var4)"
   ]
  },
  {
   "cell_type": "code",
   "execution_count": 95,
   "id": "2c0af11d-f9a6-4d93-adf2-bff644e4f639",
   "metadata": {},
   "outputs": [
    {
     "data": {
      "text/plain": [
       "2.0"
      ]
     },
     "execution_count": 95,
     "metadata": {},
     "output_type": "execute_result"
    }
   ],
   "source": [
    "#3  \n",
    "#Division(/)divides the first operand by the second it returns float value\n",
    "10/5"
   ]
  },
  {
   "cell_type": "code",
   "execution_count": 96,
   "id": "6780126d-f2e2-4699-8814-7927313673f3",
   "metadata": {},
   "outputs": [
    {
     "data": {
      "text/plain": [
       "1"
      ]
     },
     "execution_count": 96,
     "metadata": {},
     "output_type": "execute_result"
    }
   ],
   "source": [
    "#Modulus(%)returns the remainder when the first operand is divided by the second\n",
    "\n",
    "9%2"
   ]
  },
  {
   "cell_type": "code",
   "execution_count": 97,
   "id": "9ae9dc12-3517-4f9f-8d28-6369862dc4db",
   "metadata": {},
   "outputs": [
    {
     "data": {
      "text/plain": [
       "5"
      ]
     },
     "execution_count": 97,
     "metadata": {},
     "output_type": "execute_result"
    }
   ],
   "source": [
    "#Division(//)divides the first operand by the second, it returns floor value\n",
    "\n",
    "45//8"
   ]
  },
  {
   "cell_type": "code",
   "execution_count": 98,
   "id": "d1af50c9-c625-4329-8429-2c18766af533",
   "metadata": {},
   "outputs": [
    {
     "data": {
      "text/plain": [
       "81"
      ]
     },
     "execution_count": 98,
     "metadata": {},
     "output_type": "execute_result"
    }
   ],
   "source": [
    "#Power(**)Returns first raised to power second\n",
    "\n",
    "9**2"
   ]
  },
  {
   "cell_type": "code",
   "execution_count": 99,
   "id": "49ba1441-ca34-44a7-b449-1648f0b5dbf0",
   "metadata": {},
   "outputs": [],
   "source": [
    "#4\n",
    "l=[1,2,9,'shiv', 66.5, 'a', 'data', 'pwskills',9.5,\"naruto\"]"
   ]
  },
  {
   "cell_type": "code",
   "execution_count": 100,
   "id": "700bee01-75d3-45f2-be09-529ca22b8802",
   "metadata": {},
   "outputs": [
    {
     "data": {
      "text/plain": [
       "10"
      ]
     },
     "execution_count": 100,
     "metadata": {},
     "output_type": "execute_result"
    }
   ],
   "source": [
    "len(l) #gives length of string"
   ]
  },
  {
   "cell_type": "code",
   "execution_count": 101,
   "id": "aa7edf51-9ca9-4f8c-9e23-7361f340d8fa",
   "metadata": {},
   "outputs": [
    {
     "name": "stdout",
     "output_type": "stream",
     "text": [
      "1\n",
      "<class 'int'>\n",
      "2\n",
      "<class 'int'>\n",
      "9\n",
      "<class 'int'>\n",
      "shiv\n",
      "<class 'str'>\n",
      "66.5\n",
      "<class 'float'>\n",
      "a\n",
      "<class 'str'>\n",
      "data\n",
      "<class 'str'>\n",
      "pwskills\n",
      "<class 'str'>\n",
      "9.5\n",
      "<class 'float'>\n",
      "naruto\n",
      "<class 'str'>\n"
     ]
    }
   ],
   "source": [
    "for i in l:\n",
    "    print(i)\n",
    "    print(type(i))"
   ]
  },
  {
   "cell_type": "code",
   "execution_count": 108,
   "id": "165915c6-550c-4894-8860-6e34ef87060c",
   "metadata": {},
   "outputs": [
    {
     "name": "stdin",
     "output_type": "stream",
     "text": [
      "Enter the number A:  6\n",
      "Enter the number B:  2\n"
     ]
    },
    {
     "name": "stdout",
     "output_type": "stream",
     "text": [
      "A is divisible by B 1 times.\n"
     ]
    }
   ],
   "source": [
    "#5\n",
    "A = int(input(\"Enter the number A: \"))\n",
    "B = int(input(\"Enter the number B: \"))\n",
    "\n",
    "count = 0\n",
    "\n",
    "while A % B == 0:\n",
    "    A //= B\n",
    "    count += 1\n",
    "\n",
    "if count > 0:\n",
    "    print(\"A is divisible by B\", count, \"times.\")\n",
    "else:\n",
    "    print(\"A is not divisible by B.\")"
   ]
  },
  {
   "cell_type": "code",
   "execution_count": 103,
   "id": "3573d1a9-fce1-4ebf-89d3-1f7ab67e5d42",
   "metadata": {},
   "outputs": [],
   "source": [
    "#6\n",
    "l=[2,3,5,6,7,8,9,0,22,34,35,66,56,31,21,22,78,99,87,65,59,77,112,145,173]"
   ]
  },
  {
   "cell_type": "code",
   "execution_count": 109,
   "id": "b13b4be5-7b9a-4e55-9eaf-22295e3e7d1d",
   "metadata": {},
   "outputs": [
    {
     "name": "stdout",
     "output_type": "stream",
     "text": [
      "num is not divisible by 3\n",
      "num is divisible by 3\n",
      "num is not divisible by 3\n",
      "num is divisible by 3\n",
      "num is not divisible by 3\n",
      "num is not divisible by 3\n",
      "num is divisible by 3\n",
      "num is divisible by 3\n",
      "num is not divisible by 3\n",
      "num is not divisible by 3\n",
      "num is not divisible by 3\n",
      "num is divisible by 3\n",
      "num is not divisible by 3\n",
      "num is not divisible by 3\n",
      "num is divisible by 3\n",
      "num is not divisible by 3\n",
      "num is divisible by 3\n",
      "num is divisible by 3\n",
      "num is divisible by 3\n",
      "num is not divisible by 3\n",
      "num is not divisible by 3\n",
      "num is not divisible by 3\n",
      "num is not divisible by 3\n",
      "num is not divisible by 3\n",
      "num is not divisible by 3\n",
      "NO more input\n"
     ]
    }
   ],
   "source": [
    "for i in l:\n",
    "    if i%3==0:\n",
    "        print('num is divisible by 3')\n",
    "    elif i%3!=0:\n",
    "        print('num is not divisible by 3')\n",
    "else:\n",
    "    print('NO more input')\n",
    "        "
   ]
  },
  {
   "cell_type": "code",
   "execution_count": 105,
   "id": "f3a7503c-dbe2-4633-8aa2-155f3ea9a58a",
   "metadata": {},
   "outputs": [],
   "source": [
    "#7\n",
    "#Mutable Objects: A mutable object can be changed after it is created.      EXAMPLE:: List, Set, Dictionary\n",
    "#Immutable Objects: \tAn immutable object cannot be changed after it is created.   EXAMPLE:: tuples, int, float, booL"
   ]
  },
  {
   "cell_type": "code",
   "execution_count": 106,
   "id": "34ebc3a4-db73-4fdb-8683-76a632de03f6",
   "metadata": {},
   "outputs": [
    {
     "ename": "TypeError",
     "evalue": "'tuple' object does not support item assignment",
     "output_type": "error",
     "traceback": [
      "\u001b[0;31m---------------------------------------------------------------------------\u001b[0m",
      "\u001b[0;31mTypeError\u001b[0m                                 Traceback (most recent call last)",
      "Cell \u001b[0;32mIn[106], line 2\u001b[0m\n\u001b[1;32m      1\u001b[0m tuple1 \u001b[38;5;241m=\u001b[39m (\u001b[38;5;241m0\u001b[39m, \u001b[38;5;241m1\u001b[39m, \u001b[38;5;241m2\u001b[39m, \u001b[38;5;241m3\u001b[39m) \n\u001b[0;32m----> 2\u001b[0m \u001b[43mtuple1\u001b[49m\u001b[43m[\u001b[49m\u001b[38;5;241;43m0\u001b[39;49m\u001b[43m]\u001b[49m \u001b[38;5;241m=\u001b[39m \u001b[38;5;241m9\u001b[39m\n\u001b[1;32m      3\u001b[0m \u001b[38;5;28mprint\u001b[39m(tuple1)\n",
      "\u001b[0;31mTypeError\u001b[0m: 'tuple' object does not support item assignment"
     ]
    }
   ],
   "source": [
    "tuple1 = (0, 1, 2, 3) \n",
    "tuple1[0] = 9\n",
    "print(tuple1)"
   ]
  },
  {
   "cell_type": "code",
   "execution_count": 107,
   "id": "b91298c7-b04d-4f0a-bdf7-9f0a80f072fb",
   "metadata": {},
   "outputs": [
    {
     "name": "stdout",
     "output_type": "stream",
     "text": [
      "['red', 'blue', 'green']\n",
      "['red', 'black', 'green']\n"
     ]
    }
   ],
   "source": [
    "color = [\"red\", \"blue\", \"green\"]\n",
    "print(color)\n",
    "  \n",
    "color[1] = \"black\"\n",
    "print(color)\n",
    "\n",
    "#this is mutable and can be changed after it is created"
   ]
  },
  {
   "cell_type": "code",
   "execution_count": null,
   "id": "a27e5ffa-c06a-4613-971f-0eeffd565018",
   "metadata": {},
   "outputs": [],
   "source": []
  },
  {
   "cell_type": "code",
   "execution_count": null,
   "id": "4cca46c9-d5da-4d52-846f-52a7af623f7b",
   "metadata": {},
   "outputs": [],
   "source": []
  }
 ],
 "metadata": {
  "kernelspec": {
   "display_name": "Python 3 (ipykernel)",
   "language": "python",
   "name": "python3"
  },
  "language_info": {
   "codemirror_mode": {
    "name": "ipython",
    "version": 3
   },
   "file_extension": ".py",
   "mimetype": "text/x-python",
   "name": "python",
   "nbconvert_exporter": "python",
   "pygments_lexer": "ipython3",
   "version": "3.10.8"
  }
 },
 "nbformat": 4,
 "nbformat_minor": 5
}
