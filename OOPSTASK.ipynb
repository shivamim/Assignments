{
 "cells": [
  {
   "cell_type": "code",
   "execution_count": 4,
   "id": "e8fdd5a7-d1f2-4364-84c0-ec2f359e01f3",
   "metadata": {},
   "outputs": [],
   "source": [
    "#Q1\n",
    "\n",
    "class Vehicle:\n",
    "    def __init__(self, name_of_vehicle, max_speed, average_of_vehicle):\n",
    "        self.name_of_vehicle = name_of_vehicle\n",
    "        self.max_speed = max_speed\n",
    "        self.average_of_vehicle = average_of_vehicle\n"
   ]
  },
  {
   "cell_type": "code",
   "execution_count": 6,
   "id": "8dfc9e1e-78a8-4f8f-b044-dedeb0a0ac5f",
   "metadata": {},
   "outputs": [],
   "source": [
    "#Q-2\n",
    "class Vehicle:\n",
    "    def __init__(self, name_of_vehicle, max_speed, average_of_vehicle):\n",
    "        self.name_of_vehicle = name_of_vehicle\n",
    "        self.max_speed = max_speed\n",
    "        self.average_of_vehicle = average_of_vehicle\n",
    "class Seating_capacity:\n",
    "    def __init__(self,name_of_vehicle,max_speed,average_of_vehicle,capacity):\n",
    "        self.capacity= capacity\n",
    "        self.name_of_vehicle = name_of_vehicle\n",
    "        self.max_speed = max_speed\n",
    "        self.average_of_vehicle = average_of_vehicle\n"
   ]
  },
  {
   "cell_type": "code",
   "execution_count": 7,
   "id": "62d7ccc7-ea2f-41c3-842a-c7a3a98b28f4",
   "metadata": {},
   "outputs": [],
   "source": [
    "model= Seating_capacity('bmw', 300, 12, 2)"
   ]
  },
  {
   "cell_type": "code",
   "execution_count": null,
   "id": "5af2a8a7-eb33-4427-befe-88cf22a02b28",
   "metadata": {},
   "outputs": [],
   "source": []
  },
  {
   "cell_type": "code",
   "execution_count": 31,
   "id": "93a25a96-78ce-46d5-8f89-3a111d230916",
   "metadata": {},
   "outputs": [
    {
     "name": "stdout",
     "output_type": "stream",
     "text": [
      "bird can lay egg\n",
      "Winged animals can flap.\n"
     ]
    }
   ],
   "source": [
    "#Q3\n",
    "'''A class can be derived from more than one superclass in Python. This is called multiple inheritance.'''\n",
    "\n",
    "class bird:\n",
    "    def bird_info(self):\n",
    "        print(\"bird can lay egg\")\n",
    "\n",
    "class WingedAnimal:\n",
    "    def winged_animal_info(self):\n",
    "        print(\"Winged animals can flap.\")\n",
    "\n",
    "class sparrow(bird, WingedAnimal):\n",
    "    pass\n",
    "\n",
    "b1 = sparrow()\n",
    "\n",
    "b1.bird_info()\n",
    "b1.winged_animal_info()"
   ]
  },
  {
   "cell_type": "code",
   "execution_count": 32,
   "id": "eaa2afb5-ae8c-4276-9ce7-b98167194ff6",
   "metadata": {},
   "outputs": [
    {
     "name": "stdout",
     "output_type": "stream",
     "text": [
      "21\n",
      "21\n"
     ]
    }
   ],
   "source": [
    "#Q4\n",
    "#Getter: A method that allows you to access an attribute in a given class\n",
    "#Setter: A method that allows you to set or mutate the value of an attribute in a class\n",
    "# Python program showing a use\n",
    "# of get() and set() method in\n",
    "# normal function\n",
    "\n",
    "class Ds:\n",
    "\tdef __init__(self, age = 0):\n",
    "\t\tself._age = age\n",
    "\t\n",
    "\tdef get_age(self):\n",
    "\t\treturn self._age\n",
    "\t\n",
    "\tdef set_age(self, x):\n",
    "\t\tself._age = x\n",
    "\n",
    "Shiv = Ds()\n",
    "\n",
    "\n",
    "Shiv.set_age(21)\n",
    "\n",
    "\n",
    "print(Shiv.get_age())\n",
    "\n",
    "print(Shiv._age)\n"
   ]
  },
  {
   "cell_type": "code",
   "execution_count": 34,
   "id": "d5e725f0-5be5-46f2-a6d7-4f80a53c7ce3",
   "metadata": {},
   "outputs": [
    {
     "name": "stdout",
     "output_type": "stream",
     "text": [
      "The method Walk here is overridden in the code\n",
      "Hello, I am the child class\n",
      "Hello, I am the parent class\n"
     ]
    }
   ],
   "source": [
    "#Q5\n",
    "#Method overriding in Python is when you have two methods with the same name that each perform different tasks. This is an important feature of inheritance in Python.\n",
    "#In method overriding, the child class can change its functions that are defined by its ancestral classes\n",
    "class Animal:\n",
    "    def Walk(self):\n",
    "        print('Hello, I am the parent class')\n",
    "\n",
    "class Dog(Animal):\n",
    "    def Walk(self):\n",
    "        print('Hello, I am the child class')\n",
    "        \n",
    "print('The method Walk here is overridden in the code')\n",
    "\n",
    "\n",
    "r = Dog()\n",
    "r.Walk()\n",
    "\n",
    "\n",
    "r = Animal()\n",
    "r.Walk()"
   ]
  },
  {
   "cell_type": "code",
   "execution_count": null,
   "id": "7a7102e9-f7c3-4dc5-8b12-625b0c8534dd",
   "metadata": {},
   "outputs": [],
   "source": []
  }
 ],
 "metadata": {
  "kernelspec": {
   "display_name": "Python 3 (ipykernel)",
   "language": "python",
   "name": "python3"
  },
  "language_info": {
   "codemirror_mode": {
    "name": "ipython",
    "version": 3
   },
   "file_extension": ".py",
   "mimetype": "text/x-python",
   "name": "python",
   "nbconvert_exporter": "python",
   "pygments_lexer": "ipython3",
   "version": "3.10.8"
  }
 },
 "nbformat": 4,
 "nbformat_minor": 5
}
